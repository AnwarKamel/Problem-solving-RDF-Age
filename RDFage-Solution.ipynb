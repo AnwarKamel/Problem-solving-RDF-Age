{
  "nbformat": 4,
  "nbformat_minor": 0,
  "metadata": {
    "colab": {
      "name": "Untitled1.ipynb",
      "provenance": []
    },
    "kernelspec": {
      "name": "python3",
      "display_name": "Python 3"
    },
    "language_info": {
      "name": "python"
    }
  },
  "cells": [
    {
      "cell_type": "code",
      "metadata": {
        "colab": {
          "base_uri": "https://localhost:8080/"
        },
        "id": "70wArYw_aZWm",
        "outputId": "412a6881-ad59-499a-dec8-694551240604"
      },
      "source": [
        "#installation de la bibliothéque rdflib \n",
        "!pip install rdflib"
      ],
      "execution_count": 1,
      "outputs": [
        {
          "output_type": "stream",
          "text": [
            "Collecting rdflib\n",
            "\u001b[?25l  Downloading https://files.pythonhosted.org/packages/d0/6b/6454aa1db753c0f8bc265a5bd5c10b5721a4bb24160fb4faf758cf6be8a1/rdflib-5.0.0-py3-none-any.whl (231kB)\n",
            "\u001b[K     |████████████████████████████████| 235kB 5.1MB/s \n",
            "\u001b[?25hRequirement already satisfied: six in /usr/local/lib/python3.7/dist-packages (from rdflib) (1.15.0)\n",
            "Requirement already satisfied: pyparsing in /usr/local/lib/python3.7/dist-packages (from rdflib) (2.4.7)\n",
            "Collecting isodate\n",
            "\u001b[?25l  Downloading https://files.pythonhosted.org/packages/9b/9f/b36f7774ff5ea8e428fdcfc4bb332c39ee5b9362ddd3d40d9516a55221b2/isodate-0.6.0-py2.py3-none-any.whl (45kB)\n",
            "\u001b[K     |████████████████████████████████| 51kB 4.4MB/s \n",
            "\u001b[?25hInstalling collected packages: isodate, rdflib\n",
            "Successfully installed isodate-0.6.0 rdflib-5.0.0\n"
          ],
          "name": "stdout"
        }
      ]
    },
    {
      "cell_type": "code",
      "metadata": {
        "colab": {
          "base_uri": "https://localhost:8080/"
        },
        "id": "3xqLdgpFabb7",
        "outputId": "95ff586c-8b3d-41a0-a967-3f8af3e22fa0"
      },
      "source": [
        "import rdflib\n",
        "\n",
        "# Création de notre graphe(season&humidité)\n",
        "g = rdflib.Graph()\n",
        "\n",
        "# analyser dans un fichier RDF hébergé sur Internet\n",
        "result = g.parse(\"https://dbpedia.org/ontology/age\")\n",
        "\n",
        "# boucle sur chaque triple du graphique (subj, pred, obj)\n",
        "for subj, pred, obj in g:\n",
        "    # vérifier s'il y a au moins un triple dans le graphique\n",
        "    if (subj, pred, obj) not in g:\n",
        "       raise Exception(\"It better be!\")\n",
        "\n",
        "# imprimer le nombre de \"triples\" dans le graphique\n",
        "print(\"graph has {} statements.\".format(len(g)))\n",
        "\n",
        "\n",
        "# imprimer l'intégralité du graphique au format RDF Turtle \n",
        "print(g.serialize(format=\"turtle\").decode(\"utf-8\"))\n",
        "from rdflib import Graph, Literal, RDF, URIRef\n",
        "from rdflib.namespace import FOAF , XSD\n",
        "g = Graph()\n",
        "age = URIRef(\"https://dbpedia.org/ontology/age\")"
      ],
      "execution_count": 2,
      "outputs": [
        {
          "output_type": "stream",
          "text": [
            "graph has 15 statements.\n",
            "@prefix ns4: <http://open.vocab.org/terms/> .\n",
            "@prefix owl: <http://www.w3.org/2002/07/owl#> .\n",
            "@prefix prov: <http://www.w3.org/ns/prov#> .\n",
            "@prefix rdf: <http://www.w3.org/1999/02/22-rdf-syntax-ns#> .\n",
            "@prefix rdfs: <http://www.w3.org/2000/01/rdf-schema#> .\n",
            "@prefix wdrs: <http://www.w3.org/2007/05/powder-s#> .\n",
            "@prefix xsd: <http://www.w3.org/2001/XMLSchema#> .\n",
            "\n",
            "<http://dbpedia.org/ontology/> ns4:defines <http://dbpedia.org/ontology/age> .\n",
            "\n",
            "<http://dbpedia.org/ontology/data/definitions.ttl> ns4:describes <http://dbpedia.org/ontology/age> .\n",
            "\n",
            "<http://dbpedia.org/ontology/age> a rdf:Property,\n",
            "        owl:DatatypeProperty ;\n",
            "    rdfs:label \"Alter\"@de,\n",
            "        \"ηλικία\"@el,\n",
            "        \"age\"@en,\n",
            "        \"leeftijd\"@nl,\n",
            "        \"старост\"@sr ;\n",
            "    rdfs:domain <http://dbpedia.org/ontology/Agent> ;\n",
            "    rdfs:isDefinedBy <http://dbpedia.org/ontology/> ;\n",
            "    rdfs:range xsd:integer ;\n",
            "    owl:sameAs <http://dbpedia.org/ontology/age> ;\n",
            "    wdrs:describedby <http://dbpedia.org/ontology/data/definitions.ttl> ;\n",
            "    prov:wasDerivedFrom <http://mappings.dbpedia.org/index.php/OntologyProperty:age> .\n",
            "\n",
            "\n"
          ],
          "name": "stdout"
        }
      ]
    },
    {
      "cell_type": "code",
      "metadata": {
        "id": "fUDUMdTEau39"
      },
      "source": [
        "\n",
        "import rdflib\n",
        "from rdflib.extras.external_graph_libs import rdflib_to_networkx_multidigraph\n",
        "import networkx as nx\n",
        "import matplotlib.pyplot as plt\n",
        "from rdflib import Graph, Literal, RDF, URIRef,DCTERMS\n",
        "from rdflib.namespace import FOAF , XSD\n",
        "\n",
        "# Ajouter des triplets à l'aide de la méthode add() de store.\n",
        "g = Graph()\n",
        "age = URIRef(\"https://dbpedia.org/ontology/age\")\n",
        "\n",
        "g.add((age,  DCTERMS['Devided'], Literal(\"age[41,45]\")))\n",
        "g.add((age,  DCTERMS['Devided'], Literal(\"age[45,50]\")))\n",
        "g.add((age,  DCTERMS['Devided'], Literal(\"age[51,55]\")))\n",
        "g.add((age,  DCTERMS['Devided'], Literal(\"age[56,60]\")))\n",
        "g.add((age,  DCTERMS['Devided'], Literal(\"age[61,65]\")))\n",
        "\n"
      ],
      "execution_count": 13,
      "outputs": []
    },
    {
      "cell_type": "code",
      "metadata": {
        "colab": {
          "base_uri": "https://localhost:8080/"
        },
        "id": "gu5Qm2y5cg6k",
        "outputId": "60a92a7a-171f-4151-b64b-737fe8e36282"
      },
      "source": [
        "print(g)"
      ],
      "execution_count": 14,
      "outputs": [
        {
          "output_type": "stream",
          "text": [
            "[a rdfg:Graph;rdflib:storage [a rdflib:Store;rdfs:label 'IOMemory']].\n"
          ],
          "name": "stdout"
        }
      ]
    },
    {
      "cell_type": "code",
      "metadata": {
        "colab": {
          "base_uri": "https://localhost:8080/"
        },
        "id": "jCp3vLAbcj48",
        "outputId": "39f732e9-9364-48d0-88dd-a44efa967662"
      },
      "source": [
        "print(\"--- Mon triplet est composé de : ---\")\n",
        "for s, p, o in g:\n",
        "    print((s, p, o))\n",
        "#Voir mon graphe RDF qui est composé en un seul triplet sous format turtle \n",
        "print(g.serialize(format='n3').decode(\"utf-8\"))"
      ],
      "execution_count": 15,
      "outputs": [
        {
          "output_type": "stream",
          "text": [
            "--- Mon triplet est composé de : ---\n",
            "(rdflib.term.URIRef('https://dbpedia.org/ontology/age'), rdflib.term.URIRef('http://purl.org/dc/terms/Devided'), rdflib.term.Literal('age[51,55]'))\n",
            "(rdflib.term.URIRef('https://dbpedia.org/ontology/age'), rdflib.term.URIRef('http://purl.org/dc/terms/Devided'), rdflib.term.Literal('age[45,50]'))\n",
            "(rdflib.term.URIRef('https://dbpedia.org/ontology/age'), rdflib.term.URIRef('http://purl.org/dc/terms/Devided'), rdflib.term.Literal('age[61,65]'))\n",
            "(rdflib.term.URIRef('https://dbpedia.org/ontology/age'), rdflib.term.URIRef('http://purl.org/dc/terms/Devided'), rdflib.term.Literal('age[41,45]'))\n",
            "(rdflib.term.URIRef('https://dbpedia.org/ontology/age'), rdflib.term.URIRef('http://purl.org/dc/terms/Devided'), rdflib.term.Literal('age[56,60]'))\n",
            "@prefix ns1: <http://purl.org/dc/terms/> .\n",
            "\n",
            "<https://dbpedia.org/ontology/age> ns1:Devided \"age[41,45]\",\n",
            "        \"age[45,50]\",\n",
            "        \"age[51,55]\",\n",
            "        \"age[56,60]\",\n",
            "        \"age[61,65]\" .\n",
            "\n",
            "\n"
          ],
          "name": "stdout"
        }
      ]
    },
    {
      "cell_type": "code",
      "metadata": {
        "id": "ZwBUx--AcnY-"
      },
      "source": [
        "G = rdflib_to_networkx_multidigraph(g)"
      ],
      "execution_count": 16,
      "outputs": []
    },
    {
      "cell_type": "code",
      "metadata": {
        "colab": {
          "base_uri": "https://localhost:8080/",
          "height": 248
        },
        "id": "2yt2md8Wcs6h",
        "outputId": "18965f9b-547b-475b-b30e-908f05935cb3"
      },
      "source": [
        "# Plot Networkx instance of RDF Graph\n",
        "pos = nx.spring_layout(G, scale=10)\n",
        "edge_labels = nx.get_edge_attributes(G, 'r')\n",
        "nx.draw_networkx_edge_labels(G, pos, edge_labels=edge_labels)\n",
        "nx.draw(G, with_labels=True)\n",
        "\n",
        "#if not in interactive mode for \n",
        "plt.show()"
      ],
      "execution_count": 17,
      "outputs": [
        {
          "output_type": "display_data",
          "data": {
            "image/png": "[encoded data removed]",
            "text/plain": [
              "<Figure size 432x288 with 1 Axes>"
            ]
          },
          "metadata": {
            "tags": []
          }
        }
      ]
    },
    {
      "cell_type": "code",
      "metadata": {
        "id": "x0Hdr1tNcwvu"
      },
      "source": [
        ""
      ],
      "execution_count": null,
      "outputs": []
    },
    {
      "cell_type": "code",
      "metadata": {
        "id": "6-NKEN3tcX1-"
      },
      "source": [
        ""
      ],
      "execution_count": null,
      "outputs": []
    },
    {
      "cell_type": "code",
      "metadata": {
        "id": "jc2cnCIdcSyw"
      },
      "source": [
        ""
      ],
      "execution_count": null,
      "outputs": []
    },
    {
      "cell_type": "code",
      "metadata": {
        "id": "3T1hJE_TcIdL"
      },
      "source": [
        ""
      ],
      "execution_count": null,
      "outputs": []
    },
    {
      "cell_type": "code",
      "metadata": {
        "id": "UHH0xrlTbbIE"
      },
      "source": [
        "   "
      ],
      "execution_count": null,
      "outputs": []
    },
    {
      "cell_type": "code",
      "metadata": {
        "id": "9pn-axLLbROD"
      },
      "source": [
        ""
      ],
      "execution_count": null,
      "outputs": []
    },
    {
      "cell_type": "code",
      "metadata": {
        "id": "WkGGUxxea9Vh"
      },
      "source": [
        ""
      ],
      "execution_count": null,
      "outputs": []
    },
    {
      "cell_type": "code",
      "metadata": {
        "id": "DLG5YTPPa1t5"
      },
      "source": [
        ""
      ],
      "execution_count": null,
      "outputs": []
    },
    {
      "cell_type": "code",
      "metadata": {
        "id": "dj6UWuCOavnt"
      },
      "source": [
        ""
      ],
      "execution_count": null,
      "outputs": []
    }
  ]
}